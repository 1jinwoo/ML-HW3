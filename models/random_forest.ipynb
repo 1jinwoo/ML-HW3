{
 "cells": [
  {
   "cell_type": "code",
   "execution_count": 2,
   "metadata": {
    "_cell_guid": "b1076dfc-b9ad-4769-8c92-a6c4dae69d19",
    "_uuid": "8f2839f25d086af736a60e9eeb907d3b93b6e0e5"
   },
   "outputs": [
    {
     "name": "stdout",
     "output_type": "stream",
     "text": [
      "['fair-classification']\n"
     ]
    }
   ],
   "source": [
    "# This Python 3 environment comes with many helpful analytics libraries installed\n",
    "# It is defined by the kaggle/python docker image: https://github.com/kaggle/docker-python\n",
    "# For example, here's several helpful packages to load in \n",
    "\n",
    "import numpy as np # linear algebra\n",
    "import pandas as pd # data processing, CSV file I/O (e.g. pd.read_csv)\n",
    "\n",
    "# Input data files are available in the \"../input/\" directory.\n",
    "# For example, running this (by clicking run or pressing Shift+Enter) will list the files in the input directory\n",
    "\n",
    "import os\n",
    "print(os.listdir(\"../input\"))\n",
    "\n",
    "# Any results you write to the current directory are saved as output."
   ]
  },
  {
   "cell_type": "code",
   "execution_count": 3,
   "metadata": {},
   "outputs": [
    {
     "name": "stdout",
     "output_type": "stream",
     "text": [
      "['test_no_income.csv', 'test_sample0.csv', 'train.csv']\n"
     ]
    }
   ],
   "source": [
    "print(os.listdir('../input/fair-classification'))"
   ]
  },
  {
   "cell_type": "code",
   "execution_count": 4,
   "metadata": {
    "_cell_guid": "79c7e3d0-c299-4dcb-8224-4455121ee9b0",
    "_uuid": "d629ff2d2480ee46fbb7e2d37f6b5fab8052498a"
   },
   "outputs": [],
   "source": [
    "df = pd.read_csv('../input/fair-classification/train.csv')\n",
    "submission_df = pd.read_csv('../input/fair-classification/test_no_income.csv')"
   ]
  },
  {
   "cell_type": "code",
   "execution_count": 5,
   "metadata": {},
   "outputs": [
    {
     "data": {
      "text/plain": [
       "(35988, 15)"
      ]
     },
     "execution_count": 5,
     "metadata": {},
     "output_type": "execute_result"
    }
   ],
   "source": [
    "df.shape"
   ]
  },
  {
   "cell_type": "code",
   "execution_count": 6,
   "metadata": {},
   "outputs": [
    {
     "data": {
      "text/plain": [
       "Index(['Age', 'workclass', 'fnlwgt', 'education', 'education-num',\n",
       "       'marital-status', 'occupation', 'relationship', 'race', 'gender',\n",
       "       'capital gain', 'capital loss', 'hours per week', 'native-country'],\n",
       "      dtype='object')"
      ]
     },
     "execution_count": 6,
     "metadata": {},
     "output_type": "execute_result"
    }
   ],
   "source": [
    "submission_df.columns"
   ]
  },
  {
   "cell_type": "code",
   "execution_count": 7,
   "metadata": {},
   "outputs": [],
   "source": [
    "df = pd.get_dummies(df)\n",
    "submission_df = pd.get_dummies(submission_df)"
   ]
  },
  {
   "cell_type": "code",
   "execution_count": 8,
   "metadata": {
    "scrolled": true
   },
   "outputs": [
    {
     "data": {
      "text/plain": [
       "Index(['Age', 'fnlwgt', 'education-num', 'race', 'gender', 'capital gain',\n",
       "       'capital loss', 'hours per week', 'income', 'workclass_?',\n",
       "       ...\n",
       "       'native-country_Portugal', 'native-country_Puerto-Rico',\n",
       "       'native-country_Scotland', 'native-country_South',\n",
       "       'native-country_Taiwan', 'native-country_Thailand',\n",
       "       'native-country_Trinadad&Tobago', 'native-country_United-States',\n",
       "       'native-country_Vietnam', 'native-country_Yugoslavia'],\n",
       "      dtype='object', length=103)"
      ]
     },
     "execution_count": 8,
     "metadata": {},
     "output_type": "execute_result"
    }
   ],
   "source": [
    "df.columns"
   ]
  },
  {
   "cell_type": "code",
   "execution_count": 9,
   "metadata": {},
   "outputs": [],
   "source": [
    "missing_cols = set(df.columns) - set(submission_df.columns)\n",
    "\n",
    "for c in missing_cols:\n",
    "    submission_df[c] = 0\n",
    "    \n",
    "# Ensure Ordering matches\n",
    "submission_df = submission_df[df.columns].drop('income', axis=1)"
   ]
  },
  {
   "cell_type": "code",
   "execution_count": 10,
   "metadata": {},
   "outputs": [
    {
     "data": {
      "text/plain": [
       "Index(['Age', 'fnlwgt', 'education-num', 'race', 'gender', 'capital gain',\n",
       "       'capital loss', 'hours per week', 'workclass_?',\n",
       "       'workclass_Federal-gov',\n",
       "       ...\n",
       "       'native-country_Portugal', 'native-country_Puerto-Rico',\n",
       "       'native-country_Scotland', 'native-country_South',\n",
       "       'native-country_Taiwan', 'native-country_Thailand',\n",
       "       'native-country_Trinadad&Tobago', 'native-country_United-States',\n",
       "       'native-country_Vietnam', 'native-country_Yugoslavia'],\n",
       "      dtype='object', length=102)"
      ]
     },
     "execution_count": 10,
     "metadata": {},
     "output_type": "execute_result"
    }
   ],
   "source": [
    "submission_df.columns"
   ]
  },
  {
   "cell_type": "code",
   "execution_count": 11,
   "metadata": {},
   "outputs": [],
   "source": [
    "from sklearn.model_selection import train_test_split\n",
    "train_df, test_df = train_test_split(df, test_size=0.25)"
   ]
  },
  {
   "cell_type": "code",
   "execution_count": 12,
   "metadata": {},
   "outputs": [],
   "source": [
    "X_train, y_train = train_df.drop('income', axis=1), train_df['income']\n",
    "X_test, y_test = test_df.drop('income', axis=1), test_df['income']"
   ]
  },
  {
   "cell_type": "code",
   "execution_count": 13,
   "metadata": {},
   "outputs": [
    {
     "name": "stderr",
     "output_type": "stream",
     "text": [
      "[Parallel(n_jobs=1)]: Using backend SequentialBackend with 1 concurrent workers.\n",
      "[Parallel(n_jobs=1)]: Done 1000 out of 1000 | elapsed:   40.9s finished\n"
     ]
    },
    {
     "data": {
      "text/plain": [
       "RandomForestClassifier(bootstrap=True, class_weight=None, criterion='gini',\n",
       "            max_depth=None, max_features='auto', max_leaf_nodes=None,\n",
       "            min_impurity_decrease=0.0, min_impurity_split=None,\n",
       "            min_samples_leaf=1, min_samples_split=2,\n",
       "            min_weight_fraction_leaf=0.0, n_estimators=1000, n_jobs=None,\n",
       "            oob_score=False, random_state=42, verbose=1, warm_start=False)"
      ]
     },
     "execution_count": 13,
     "metadata": {},
     "output_type": "execute_result"
    }
   ],
   "source": [
    "from sklearn.ensemble import RandomForestClassifier\n",
    "\n",
    "# Training\n",
    "rf = RandomForestClassifier(n_estimators=1000, random_state=42, verbose=1)\n",
    "rf.fit(X_train, y_train)"
   ]
  },
  {
   "cell_type": "code",
   "execution_count": 14,
   "metadata": {},
   "outputs": [
    {
     "name": "stderr",
     "output_type": "stream",
     "text": [
      "[Parallel(n_jobs=1)]: Using backend SequentialBackend with 1 concurrent workers.\n",
      "[Parallel(n_jobs=1)]: Done 1000 out of 1000 | elapsed:    2.6s finished\n"
     ]
    }
   ],
   "source": [
    "# Make Predictions\n",
    "predictions = rf.predict(X_test)"
   ]
  },
  {
   "cell_type": "code",
   "execution_count": 15,
   "metadata": {},
   "outputs": [
    {
     "name": "stdout",
     "output_type": "stream",
     "text": [
      "Accuracy:  82.87 %.\n"
     ]
    }
   ],
   "source": [
    "# Determine absolute error\n",
    "errors = abs(predictions - y_test)\n",
    "\n",
    "# Determine number of errors\n",
    "num_correct = errors.value_counts()[0]\n",
    "num_incorrect = errors.value_counts()[1]\n",
    "\n",
    "\n",
    "# Determine accuracy\n",
    "accuracy = (1 - (num_incorrect / num_correct)) * 100\n",
    "\n",
    "print('Accuracy: ', round(accuracy, 2), '%.')"
   ]
  },
  {
   "cell_type": "code",
   "execution_count": 16,
   "metadata": {},
   "outputs": [],
   "source": [
    "# Determine Bias\n",
    "Th = 0.1\n",
    "# DDP = np.abs()"
   ]
  },
  {
   "cell_type": "code",
   "execution_count": 17,
   "metadata": {},
   "outputs": [
    {
     "data": {
      "text/plain": [
       "(8997, 102)"
      ]
     },
     "execution_count": 17,
     "metadata": {},
     "output_type": "execute_result"
    }
   ],
   "source": [
    "X_test.shape"
   ]
  },
  {
   "cell_type": "code",
   "execution_count": 24,
   "metadata": {},
   "outputs": [
    {
     "data": {
      "text/html": [
       "<div>\n",
       "<style scoped>\n",
       "    .dataframe tbody tr th:only-of-type {\n",
       "        vertical-align: middle;\n",
       "    }\n",
       "\n",
       "    .dataframe tbody tr th {\n",
       "        vertical-align: top;\n",
       "    }\n",
       "\n",
       "    .dataframe thead th {\n",
       "        text-align: right;\n",
       "    }\n",
       "</style>\n",
       "<table border=\"1\" class=\"dataframe\">\n",
       "  <thead>\n",
       "    <tr style=\"text-align: right;\">\n",
       "      <th></th>\n",
       "      <th>Age</th>\n",
       "      <th>fnlwgt</th>\n",
       "      <th>education-num</th>\n",
       "      <th>race</th>\n",
       "      <th>gender</th>\n",
       "      <th>capital gain</th>\n",
       "      <th>capital loss</th>\n",
       "      <th>hours per week</th>\n",
       "      <th>workclass_?</th>\n",
       "      <th>workclass_Federal-gov</th>\n",
       "      <th>...</th>\n",
       "      <th>native-country_Puerto-Rico</th>\n",
       "      <th>native-country_Scotland</th>\n",
       "      <th>native-country_South</th>\n",
       "      <th>native-country_Taiwan</th>\n",
       "      <th>native-country_Thailand</th>\n",
       "      <th>native-country_Trinadad&amp;Tobago</th>\n",
       "      <th>native-country_United-States</th>\n",
       "      <th>native-country_Vietnam</th>\n",
       "      <th>native-country_Yugoslavia</th>\n",
       "      <th>income</th>\n",
       "    </tr>\n",
       "  </thead>\n",
       "  <tbody>\n",
       "    <tr>\n",
       "      <th>6319</th>\n",
       "      <td>51</td>\n",
       "      <td>168660</td>\n",
       "      <td>7</td>\n",
       "      <td>0</td>\n",
       "      <td>0</td>\n",
       "      <td>0</td>\n",
       "      <td>0</td>\n",
       "      <td>40</td>\n",
       "      <td>0</td>\n",
       "      <td>0</td>\n",
       "      <td>...</td>\n",
       "      <td>0</td>\n",
       "      <td>0</td>\n",
       "      <td>0</td>\n",
       "      <td>0</td>\n",
       "      <td>0</td>\n",
       "      <td>0</td>\n",
       "      <td>1</td>\n",
       "      <td>0</td>\n",
       "      <td>0</td>\n",
       "      <td>0</td>\n",
       "    </tr>\n",
       "    <tr>\n",
       "      <th>35327</th>\n",
       "      <td>34</td>\n",
       "      <td>203488</td>\n",
       "      <td>10</td>\n",
       "      <td>0</td>\n",
       "      <td>0</td>\n",
       "      <td>0</td>\n",
       "      <td>0</td>\n",
       "      <td>40</td>\n",
       "      <td>0</td>\n",
       "      <td>0</td>\n",
       "      <td>...</td>\n",
       "      <td>0</td>\n",
       "      <td>0</td>\n",
       "      <td>0</td>\n",
       "      <td>0</td>\n",
       "      <td>0</td>\n",
       "      <td>0</td>\n",
       "      <td>1</td>\n",
       "      <td>0</td>\n",
       "      <td>0</td>\n",
       "      <td>0</td>\n",
       "    </tr>\n",
       "    <tr>\n",
       "      <th>10637</th>\n",
       "      <td>25</td>\n",
       "      <td>188119</td>\n",
       "      <td>9</td>\n",
       "      <td>0</td>\n",
       "      <td>1</td>\n",
       "      <td>0</td>\n",
       "      <td>0</td>\n",
       "      <td>40</td>\n",
       "      <td>0</td>\n",
       "      <td>0</td>\n",
       "      <td>...</td>\n",
       "      <td>0</td>\n",
       "      <td>0</td>\n",
       "      <td>0</td>\n",
       "      <td>0</td>\n",
       "      <td>0</td>\n",
       "      <td>0</td>\n",
       "      <td>1</td>\n",
       "      <td>0</td>\n",
       "      <td>0</td>\n",
       "      <td>0</td>\n",
       "    </tr>\n",
       "    <tr>\n",
       "      <th>24979</th>\n",
       "      <td>66</td>\n",
       "      <td>427422</td>\n",
       "      <td>16</td>\n",
       "      <td>0</td>\n",
       "      <td>0</td>\n",
       "      <td>0</td>\n",
       "      <td>2377</td>\n",
       "      <td>25</td>\n",
       "      <td>0</td>\n",
       "      <td>0</td>\n",
       "      <td>...</td>\n",
       "      <td>0</td>\n",
       "      <td>0</td>\n",
       "      <td>0</td>\n",
       "      <td>0</td>\n",
       "      <td>0</td>\n",
       "      <td>0</td>\n",
       "      <td>1</td>\n",
       "      <td>0</td>\n",
       "      <td>0</td>\n",
       "      <td>1</td>\n",
       "    </tr>\n",
       "    <tr>\n",
       "      <th>634</th>\n",
       "      <td>35</td>\n",
       "      <td>189240</td>\n",
       "      <td>10</td>\n",
       "      <td>1</td>\n",
       "      <td>1</td>\n",
       "      <td>0</td>\n",
       "      <td>0</td>\n",
       "      <td>40</td>\n",
       "      <td>0</td>\n",
       "      <td>0</td>\n",
       "      <td>...</td>\n",
       "      <td>0</td>\n",
       "      <td>0</td>\n",
       "      <td>0</td>\n",
       "      <td>0</td>\n",
       "      <td>0</td>\n",
       "      <td>0</td>\n",
       "      <td>1</td>\n",
       "      <td>0</td>\n",
       "      <td>0</td>\n",
       "      <td>0</td>\n",
       "    </tr>\n",
       "  </tbody>\n",
       "</table>\n",
       "<p>5 rows × 103 columns</p>\n",
       "</div>"
      ],
      "text/plain": [
       "       Age  fnlwgt  education-num  race  gender  capital gain  capital loss  \\\n",
       "6319    51  168660              7     0       0             0             0   \n",
       "35327   34  203488             10     0       0             0             0   \n",
       "10637   25  188119              9     0       1             0             0   \n",
       "24979   66  427422             16     0       0             0          2377   \n",
       "634     35  189240             10     1       1             0             0   \n",
       "\n",
       "       hours per week  workclass_?  workclass_Federal-gov   ...    \\\n",
       "6319               40            0                      0   ...     \n",
       "35327              40            0                      0   ...     \n",
       "10637              40            0                      0   ...     \n",
       "24979              25            0                      0   ...     \n",
       "634                40            0                      0   ...     \n",
       "\n",
       "       native-country_Puerto-Rico  native-country_Scotland  \\\n",
       "6319                            0                        0   \n",
       "35327                           0                        0   \n",
       "10637                           0                        0   \n",
       "24979                           0                        0   \n",
       "634                             0                        0   \n",
       "\n",
       "       native-country_South  native-country_Taiwan  native-country_Thailand  \\\n",
       "6319                      0                      0                        0   \n",
       "35327                     0                      0                        0   \n",
       "10637                     0                      0                        0   \n",
       "24979                     0                      0                        0   \n",
       "634                       0                      0                        0   \n",
       "\n",
       "       native-country_Trinadad&Tobago  native-country_United-States  \\\n",
       "6319                                0                             1   \n",
       "35327                               0                             1   \n",
       "10637                               0                             1   \n",
       "24979                               0                             1   \n",
       "634                                 0                             1   \n",
       "\n",
       "       native-country_Vietnam  native-country_Yugoslavia  income  \n",
       "6319                        0                          0       0  \n",
       "35327                       0                          0       0  \n",
       "10637                       0                          0       0  \n",
       "24979                       0                          0       1  \n",
       "634                         0                          0       0  \n",
       "\n",
       "[5 rows x 103 columns]"
      ]
     },
     "execution_count": 24,
     "metadata": {},
     "output_type": "execute_result"
    }
   ],
   "source": [
    "# X_pred includes income columns that is predicted by the model\n",
    "X_pred = X_test.loc[:]\n",
    "X_pred['income'] = predictions\n",
    "X_pred.head()"
   ]
  },
  {
   "cell_type": "code",
   "execution_count": 25,
   "metadata": {},
   "outputs": [
    {
     "data": {
      "text/plain": [
       "(6069, 2928, 1622, 223)"
      ]
     },
     "execution_count": 25,
     "metadata": {},
     "output_type": "execute_result"
    }
   ],
   "source": [
    "A0 = len(X_pred.loc[X_pred['gender'] == 0])\n",
    "A1 = len(X_pred.loc[X_pred['gender'] == 1])\n",
    "\n",
    "Y1A0 = len(X_pred.loc[(X_pred['income'] == 1) & (X_pred['gender'] == 0)])\n",
    "Y1A1 = len(X_pred.loc[(X_pred['income'] == 1) & (X_pred['gender'] == 1)])\n",
    "\n",
    "A0, A1, Y1A0, Y1A1"
   ]
  },
  {
   "cell_type": "code",
   "execution_count": 31,
   "metadata": {},
   "outputs": [
    {
     "data": {
      "text/plain": [
       "82.67286106988907"
      ]
     },
     "execution_count": 31,
     "metadata": {},
     "output_type": "execute_result"
    }
   ],
   "source": [
    "DDP = np.abs((Y1A0 / A0) - (Y1A1 / A1))\n",
    "bias = (7**(DDP - Th) - 1) if DDP > Th else 0\n",
    "score = accuracy - bias\n",
    "score"
   ]
  },
  {
   "cell_type": "code",
   "execution_count": 73,
   "metadata": {
    "scrolled": true
   },
   "outputs": [
    {
     "name": "stdout",
     "output_type": "stream",
     "text": [
      "Variable: fnlwgt               Importance: 0.16695\n",
      "Variable: Age                  Importance: 0.15346\n",
      "Variable: capital gain         Importance: 0.0983\n",
      "Variable: hours per week       Importance: 0.086\n",
      "Variable: marital-status_Married-civ-spouse Importance: 0.06493\n",
      "Variable: education-num        Importance: 0.06308\n",
      "Variable: relationship_Husband Importance: 0.04403\n",
      "Variable: capital loss         Importance: 0.03057\n",
      "Variable: marital-status_Never-married Importance: 0.02227\n",
      "Variable: occupation_Exec-managerial Importance: 0.01849\n",
      "Variable: occupation_Prof-specialty Importance: 0.01451\n",
      "Variable: education_Bachelors  Importance: 0.01276\n",
      "Variable: gender               Importance: 0.01249\n",
      "Variable: relationship_Not-in-family Importance: 0.01181\n",
      "Variable: workclass_Private    Importance: 0.01031\n",
      "Variable: relationship_Wife    Importance: 0.00927\n",
      "Variable: relationship_Own-child Importance: 0.00923\n",
      "Variable: education_Masters    Importance: 0.00888\n",
      "Variable: workclass_Self-emp-not-inc Importance: 0.00848\n",
      "Variable: race                 Importance: 0.00821\n",
      "Variable: education_HS-grad    Importance: 0.00783\n",
      "Variable: occupation_Sales     Importance: 0.00675\n",
      "Variable: occupation_Other-service Importance: 0.00667\n",
      "Variable: occupation_Craft-repair Importance: 0.00658\n",
      "Variable: marital-status_Divorced Importance: 0.00651\n",
      "Variable: workclass_Self-emp-inc Importance: 0.0059\n",
      "Variable: workclass_Local-gov  Importance: 0.00587\n",
      "Variable: native-country_United-States Importance: 0.00555\n",
      "Variable: occupation_Adm-clerical Importance: 0.0054\n",
      "Variable: education_Some-college Importance: 0.00534\n",
      "Variable: relationship_Unmarried Importance: 0.0052\n",
      "Variable: education_Prof-school Importance: 0.00482\n",
      "Variable: occupation_Tech-support Importance: 0.00468\n",
      "Variable: workclass_Federal-gov Importance: 0.00467\n",
      "Variable: workclass_State-gov  Importance: 0.00448\n",
      "Variable: occupation_Transport-moving Importance: 0.00441\n",
      "Variable: occupation_Farming-fishing Importance: 0.0043\n",
      "Variable: occupation_Machine-op-inspct Importance: 0.00388\n",
      "Variable: occupation_Handlers-cleaners Importance: 0.0037\n",
      "Variable: education_Doctorate  Importance: 0.00298\n",
      "Variable: education_Assoc-voc  Importance: 0.00287\n",
      "Variable: occupation_Protective-serv Importance: 0.00283\n",
      "Variable: education_Assoc-acdm Importance: 0.00242\n",
      "Variable: native-country_?     Importance: 0.00239\n",
      "Variable: education_7th-8th    Importance: 0.00199\n",
      "Variable: education_11th       Importance: 0.00197\n",
      "Variable: occupation_?         Importance: 0.00191\n",
      "Variable: workclass_?          Importance: 0.00185\n",
      "Variable: native-country_Mexico Importance: 0.0018\n",
      "Variable: marital-status_Separated Importance: 0.00168\n",
      "Variable: marital-status_Widowed Importance: 0.00163\n",
      "Variable: education_10th       Importance: 0.00147\n",
      "Variable: education_9th        Importance: 0.00131\n",
      "Variable: relationship_Other-relative Importance: 0.00129\n",
      "Variable: native-country_Germany Importance: 0.0011\n",
      "Variable: native-country_Canada Importance: 0.001\n",
      "Variable: native-country_England Importance: 0.00089\n",
      "Variable: marital-status_Married-spouse-absent Importance: 0.00088\n",
      "Variable: education_12th       Importance: 0.00066\n",
      "Variable: native-country_Poland Importance: 0.00065\n",
      "Variable: education_5th-6th    Importance: 0.00062\n",
      "Variable: native-country_Cuba  Importance: 0.00057\n",
      "Variable: native-country_Italy Importance: 0.00046\n",
      "Variable: native-country_Greece Importance: 0.00044\n",
      "Variable: native-country_Ireland Importance: 0.00044\n",
      "Variable: native-country_Puerto-Rico Importance: 0.00042\n",
      "Variable: native-country_Jamaica Importance: 0.0004\n",
      "Variable: native-country_Iran  Importance: 0.00039\n",
      "Variable: native-country_France Importance: 0.00037\n",
      "Variable: native-country_Portugal Importance: 0.00034\n",
      "Variable: native-country_Yugoslavia Importance: 0.0003\n",
      "Variable: marital-status_Married-AF-spouse Importance: 0.00026\n",
      "Variable: education_1st-4th    Importance: 0.00025\n",
      "Variable: native-country_Hungary Importance: 0.00024\n",
      "Variable: native-country_Columbia Importance: 0.00021\n",
      "Variable: native-country_Haiti Importance: 0.0002\n",
      "Variable: native-country_El-Salvador Importance: 0.00018\n",
      "Variable: native-country_Peru  Importance: 0.00018\n",
      "Variable: native-country_Philippines Importance: 0.00017\n",
      "Variable: native-country_Guatemala Importance: 0.00016\n",
      "Variable: native-country_Nicaragua Importance: 0.00016\n",
      "Variable: native-country_Dominican-Republic Importance: 0.00015\n",
      "Variable: native-country_Japan Importance: 0.00015\n",
      "Variable: occupation_Priv-house-serv Importance: 0.00014\n",
      "Variable: workclass_Without-pay Importance: 0.00012\n",
      "Variable: native-country_Ecuador Importance: 0.00011\n",
      "Variable: native-country_Scotland Importance: 0.00011\n",
      "Variable: native-country_Trinadad&Tobago Importance: 0.0001\n",
      "Variable: occupation_Armed-Forces Importance: 6e-05\n",
      "Variable: native-country_Taiwan Importance: 5e-05\n",
      "Variable: education_Preschool  Importance: 4e-05\n",
      "Variable: native-country_India Importance: 4e-05\n",
      "Variable: native-country_Outlying-US(Guam-USVI-etc) Importance: 2e-05\n",
      "Variable: native-country_China Importance: 1e-05\n",
      "Variable: workclass_Never-worked Importance: 0.0\n",
      "Variable: native-country_Cambodia Importance: 0.0\n",
      "Variable: native-country_Holand-Netherlands Importance: 0.0\n",
      "Variable: native-country_Honduras Importance: 0.0\n",
      "Variable: native-country_Hong  Importance: 0.0\n",
      "Variable: native-country_South Importance: 0.0\n",
      "Variable: native-country_Thailand Importance: 0.0\n",
      "Variable: native-country_Vietnam Importance: 0.0\n"
     ]
    }
   ],
   "source": [
    "# Evaluate\n",
    "\n",
    "importances = list(rf.feature_importances_)\n",
    "feature_importances = [(feature, round(importance, 5)) for feature, importance in zip(X_train.columns, importances)]\n",
    "feature_importances = sorted(feature_importances, key = lambda x: x[1], reverse=True)\n",
    "list_of_importances = [print('Variable: {:20} Importance: {}'.format(*pair)) for pair in feature_importances]"
   ]
  },
  {
   "cell_type": "code",
   "execution_count": 32,
   "metadata": {},
   "outputs": [
    {
     "data": {
      "text/plain": [
       "'../output/test_sample_2019-04-09224929.697337.csv'"
      ]
     },
     "execution_count": 32,
     "metadata": {},
     "output_type": "execute_result"
    }
   ],
   "source": [
    "import datetime\n",
    "\n",
    "file_name = '../output/test_sample_' + str(datetime.datetime.now()).replace(' ', '').replace(':','') + '.csv'\n",
    "file_name"
   ]
  },
  {
   "cell_type": "code",
   "execution_count": 39,
   "metadata": {
    "scrolled": true
   },
   "outputs": [
    {
     "data": {
      "text/plain": [
       "0       0\n",
       "1       0\n",
       "2       0\n",
       "3       0\n",
       "4       0\n",
       "5       0\n",
       "6       0\n",
       "7       0\n",
       "8       0\n",
       "9       0\n",
       "10      0\n",
       "11      0\n",
       "12      0\n",
       "13      0\n",
       "14      0\n",
       "15      0\n",
       "16      0\n",
       "17      1\n",
       "18      0\n",
       "19      0\n",
       "20      0\n",
       "21      1\n",
       "22      0\n",
       "23      1\n",
       "24      0\n",
       "25      1\n",
       "26      0\n",
       "27      0\n",
       "28      0\n",
       "29      1\n",
       "       ..\n",
       "8967    1\n",
       "8968    0\n",
       "8969    0\n",
       "8970    0\n",
       "8971    1\n",
       "8972    0\n",
       "8973    0\n",
       "8974    0\n",
       "8975    0\n",
       "8976    0\n",
       "8977    0\n",
       "8978    1\n",
       "8979    1\n",
       "8980    1\n",
       "8981    0\n",
       "8982    0\n",
       "8983    0\n",
       "8984    0\n",
       "8985    1\n",
       "8986    1\n",
       "8987    0\n",
       "8988    0\n",
       "8989    1\n",
       "8990    0\n",
       "8991    1\n",
       "8992    0\n",
       "8993    0\n",
       "8994    0\n",
       "8995    0\n",
       "8996    0\n",
       "Length: 8997, dtype: int64"
      ]
     },
     "execution_count": 39,
     "metadata": {},
     "output_type": "execute_result"
    }
   ],
   "source": [
    "submission = pd.Series(predictions)\n",
    "submission"
   ]
  },
  {
   "cell_type": "code",
   "execution_count": 45,
   "metadata": {},
   "outputs": [],
   "source": [
    "submission.to_csv(file_name, index_label='Id', header=['income'], index=True)"
   ]
  },
  {
   "cell_type": "code",
   "execution_count": null,
   "metadata": {},
   "outputs": [],
   "source": []
  }
 ],
 "metadata": {
  "kernelspec": {
   "display_name": "Python 3",
   "language": "python",
   "name": "python3"
  },
  "language_info": {
   "codemirror_mode": {
    "name": "ipython",
    "version": 3
   },
   "file_extension": ".py",
   "mimetype": "text/x-python",
   "name": "python",
   "nbconvert_exporter": "python",
   "pygments_lexer": "ipython3",
   "version": "3.6.7"
  }
 },
 "nbformat": 4,
 "nbformat_minor": 1
}
