{
 "cells": [
  {
   "cell_type": "markdown",
   "metadata": {},
   "source": [
    "# Import Libraries"
   ]
  },
  {
   "cell_type": "code",
   "execution_count": 1,
   "metadata": {},
   "outputs": [],
   "source": [
    "import numpy as np\n",
    "import pandas as pd\n",
    "import fairlearn.moments as moments\n",
    "import fairlearn.classred as red\n",
    "from sklearn.model_selection import train_test_split\n",
    "from sklearn.linear_model import LogisticRegression\n",
    "from sklearn.metrics import accuracy_score"
   ]
  },
  {
   "cell_type": "markdown",
   "metadata": {},
   "source": [
    "# Define Regressor Class"
   ]
  },
  {
   "cell_type": "markdown",
   "metadata": {},
   "source": [
    "# Get Files and Inputs"
   ]
  },
  {
   "cell_type": "code",
   "execution_count": 2,
   "metadata": {},
   "outputs": [
    {
     "name": "stdout",
     "output_type": "stream",
     "text": [
      "['test_no_income.csv', 'test_sample0.csv', 'train.csv']\n"
     ]
    }
   ],
   "source": [
    "import os\n",
    "print(os.listdir('../input/fair-classification'))"
   ]
  },
  {
   "cell_type": "code",
   "execution_count": 3,
   "metadata": {},
   "outputs": [],
   "source": [
    "df = pd.read_csv('../input/fair-classification/train.csv')\n",
    "submission_df = pd.read_csv('../input/fair-classification/test_no_income.csv')"
   ]
  },
  {
   "cell_type": "code",
   "execution_count": 4,
   "metadata": {
    "scrolled": true
   },
   "outputs": [
    {
     "data": {
      "text/plain": [
       "(35988, 15)"
      ]
     },
     "execution_count": 4,
     "metadata": {},
     "output_type": "execute_result"
    }
   ],
   "source": [
    "df.shape"
   ]
  },
  {
   "cell_type": "code",
   "execution_count": 5,
   "metadata": {},
   "outputs": [
    {
     "data": {
      "text/plain": [
       "(8997, 14)"
      ]
     },
     "execution_count": 5,
     "metadata": {},
     "output_type": "execute_result"
    }
   ],
   "source": [
    "submission_df.shape"
   ]
  },
  {
   "cell_type": "code",
   "execution_count": 6,
   "metadata": {},
   "outputs": [],
   "source": [
    "# encode string data\n",
    "df = pd.get_dummies(df)\n",
    "submission_df = pd.get_dummies(submission_df)"
   ]
  },
  {
   "cell_type": "code",
   "execution_count": 7,
   "metadata": {},
   "outputs": [],
   "source": [
    "missing_cols = set(df.columns) - set(submission_df.columns)\n",
    "\n",
    "for c in missing_cols:\n",
    "    submission_df[c] = 0\n",
    "    \n",
    "# Ensure Ordering matches\n",
    "submission_df = submission_df[df.columns].drop('income', axis=1)"
   ]
  },
  {
   "cell_type": "markdown",
   "metadata": {},
   "source": [
    "# Organize data into training, testing, features(X), sensitive attributes(A), targets(y)"
   ]
  },
  {
   "cell_type": "code",
   "execution_count": 8,
   "metadata": {
    "scrolled": true
   },
   "outputs": [],
   "source": [
    "train_df, test_df = train_test_split(df, test_size=0.25)\n",
    "X_train, A_train, y_train = train_df.drop(['income','gender'], axis=1), train_df['gender'], train_df['income']\n",
    "X_test, A_test, y_test = test_df.drop(['income','gender'], axis=1), test_df['gender'], test_df['income']"
   ]
  },
  {
   "cell_type": "code",
   "execution_count": 9,
   "metadata": {},
   "outputs": [
    {
     "data": {
      "text/plain": [
       "(102, 101)"
      ]
     },
     "execution_count": 9,
     "metadata": {},
     "output_type": "execute_result"
    }
   ],
   "source": [
    "submission_df.shape[1], X_test.shape[1]"
   ]
  },
  {
   "cell_type": "markdown",
   "metadata": {},
   "source": [
    "# Using fairlearn to find best model"
   ]
  },
  {
   "cell_type": "code",
   "execution_count": 16,
   "metadata": {},
   "outputs": [
    {
     "name": "stdout",
     "output_type": "stream",
     "text": [
      "[LibLinear][LibLinear][LibLinear][LibLinear][LibLinear][LibLinear][LibLinear][LibLinear][LibLinear][LibLinear][LibLinear][LibLinear][LibLinear][LibLinear][LibLinear][LibLinear][LibLinear][LibLinear][LibLinear][LibLinear][LibLinear][LibLinear][LibLinear][LibLinear][LibLinear][LibLinear][LibLinear][LibLinear][LibLinear][LibLinear][LibLinear][LibLinear]Accuracy:  84.94 %.\n",
      "Accuracy: 84.93942425252861\n",
      "Bias: 0\n",
      "Score: 84.93942425252861\n"
     ]
    }
   ],
   "source": [
    "# Copyright (c) Microsoft Corporation. All rights reserved.\n",
    "# Licensed under the MIT License.\n",
    "\n",
    "class LogisticRegressionLearner():\n",
    "    def __init__(self):\n",
    "        self.model = None\n",
    "    def fit(self, X, Y, W):\n",
    "        self.model = LogisticRegression(C=0.3, solver='liblinear', tol=1e-3, penalty='l1', verbose=1, max_iter=100000)\n",
    "        self.model.fit(X, Y, sample_weight=W)\n",
    "\n",
    "    def predict(self, X):\n",
    "        return self.model.predict(X)\n",
    "\n",
    "\n",
    "learner = LogisticRegressionLearner()\n",
    "res_tuple = red.expgrad(X_train, A_train, y_train, learner,\n",
    "                        cons=moments.DP(), eps=0.1)\n",
    "res = res_tuple._asdict()\n",
    "best_classifier = res['best_classifier']\n",
    "\n",
    "# Make Predictions\n",
    "predictions = best_classifier(X_test)\n",
    "\n",
    "def indicator(predictions):\n",
    "    predictions[predictions < 0.5] = 0\n",
    "    predictions[predictions >= 0.5] = 1\n",
    "    return predictions\n",
    "\n",
    "predictions = indicator(predictions)\n",
    "accuracy = accuracy_score(y_test, predictions) * 100\n",
    "print('Accuracy: ', round(accuracy, 2), '%.')\n",
    "\n",
    "# X_pred includes income columns that is predicted by the model\n",
    "X_pred = test_df.drop('income', axis=1)\n",
    "X_pred['income'] = predictions\n",
    "\n",
    "A0 = len(X_pred.loc[X_pred['gender'] == 0])\n",
    "A1 = len(X_pred.loc[X_pred['gender'] == 1])\n",
    "\n",
    "Y1A0 = len(X_pred.loc[(X_pred['income'] == 1) & (X_pred['gender'] == 0)])\n",
    "Y1A1 = len(X_pred.loc[(X_pred['income'] == 1) & (X_pred['gender'] == 1)])\n",
    "\n",
    "Th = 0.1\n",
    "DDP = np.abs((Y1A0 / A0) - (Y1A1 / A1))\n",
    "bias = (7**(DDP - Th) - 1) if DDP > Th else 0\n",
    "score = accuracy - bias\n",
    "print(f'Accuracy: {accuracy}\\nBias: {bias}\\nScore: {score}')"
   ]
  },
  {
   "cell_type": "markdown",
   "metadata": {},
   "source": [
    "# Submission"
   ]
  },
  {
   "cell_type": "code",
   "execution_count": null,
   "metadata": {},
   "outputs": [],
   "source": [
    "submission_df_ = submission_df.drop(['gender'], axis=1)\n",
    "submission_predictions = indicator(best_classifier(submission_df_))"
   ]
  },
  {
   "cell_type": "code",
   "execution_count": null,
   "metadata": {},
   "outputs": [],
   "source": [
    "import datetime\n",
    "\n",
    "file_name = '../output/test_sample_' + str(datetime.datetime.now()).replace(' ', '').replace(':','') + '.csv'\n",
    "file_name"
   ]
  },
  {
   "cell_type": "code",
   "execution_count": null,
   "metadata": {
    "scrolled": true
   },
   "outputs": [],
   "source": [
    "submission = pd.Series(submission_predictions, dtype=np.int64)"
   ]
  },
  {
   "cell_type": "code",
   "execution_count": null,
   "metadata": {},
   "outputs": [],
   "source": [
    "submission.to_csv(file_name, index_label='Id', header=['income'], index=True)"
   ]
  }
 ],
 "metadata": {
  "kernelspec": {
   "display_name": "Python 3",
   "language": "python",
   "name": "python3"
  },
  "language_info": {
   "codemirror_mode": {
    "name": "ipython",
    "version": 3
   },
   "file_extension": ".py",
   "mimetype": "text/x-python",
   "name": "python",
   "nbconvert_exporter": "python",
   "pygments_lexer": "ipython3",
   "version": "3.6.7"
  }
 },
 "nbformat": 4,
 "nbformat_minor": 2
}
