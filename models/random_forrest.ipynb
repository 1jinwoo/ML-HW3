{
 "cells": [
  {
   "cell_type": "code",
   "execution_count": 43,
   "metadata": {
    "_cell_guid": "b1076dfc-b9ad-4769-8c92-a6c4dae69d19",
    "_uuid": "8f2839f25d086af736a60e9eeb907d3b93b6e0e5"
   },
   "outputs": [
    {
     "name": "stdout",
     "output_type": "stream",
     "text": [
      "['fair-classification']\n"
     ]
    }
   ],
   "source": [
    "# This Python 3 environment comes with many helpful analytics libraries installed\n",
    "# It is defined by the kaggle/python docker image: https://github.com/kaggle/docker-python\n",
    "# For example, here's several helpful packages to load in \n",
    "\n",
    "import numpy as np # linear algebra\n",
    "import pandas as pd # data processing, CSV file I/O (e.g. pd.read_csv)\n",
    "\n",
    "# Input data files are available in the \"../input/\" directory.\n",
    "# For example, running this (by clicking run or pressing Shift+Enter) will list the files in the input directory\n",
    "\n",
    "import os\n",
    "print(os.listdir(\"../input\"))\n",
    "\n",
    "# Any results you write to the current directory are saved as output."
   ]
  },
  {
   "cell_type": "code",
   "execution_count": 44,
   "metadata": {},
   "outputs": [
    {
     "name": "stdout",
     "output_type": "stream",
     "text": [
      "['test_no_income.csv', 'test_sample0.csv', 'train.csv']\n"
     ]
    }
   ],
   "source": [
    "print(os.listdir('../input/fair-classification'))"
   ]
  },
  {
   "cell_type": "code",
   "execution_count": 45,
   "metadata": {
    "_cell_guid": "79c7e3d0-c299-4dcb-8224-4455121ee9b0",
    "_uuid": "d629ff2d2480ee46fbb7e2d37f6b5fab8052498a"
   },
   "outputs": [],
   "source": [
    "train_df = pd.read_csv('../input/fair-classification/train.csv')\n",
    "test_df = pd.read_csv('../input/fair-classification/test_no_income.csv')"
   ]
  },
  {
   "cell_type": "code",
   "execution_count": 46,
   "metadata": {},
   "outputs": [
    {
     "data": {
      "text/html": [
       "<div>\n",
       "<style scoped>\n",
       "    .dataframe tbody tr th:only-of-type {\n",
       "        vertical-align: middle;\n",
       "    }\n",
       "\n",
       "    .dataframe tbody tr th {\n",
       "        vertical-align: top;\n",
       "    }\n",
       "\n",
       "    .dataframe thead th {\n",
       "        text-align: right;\n",
       "    }\n",
       "</style>\n",
       "<table border=\"1\" class=\"dataframe\">\n",
       "  <thead>\n",
       "    <tr style=\"text-align: right;\">\n",
       "      <th></th>\n",
       "      <th>Age</th>\n",
       "      <th>workclass</th>\n",
       "      <th>fnlwgt</th>\n",
       "      <th>education</th>\n",
       "      <th>education-num</th>\n",
       "      <th>marital-status</th>\n",
       "      <th>occupation</th>\n",
       "      <th>relationship</th>\n",
       "      <th>race</th>\n",
       "      <th>gender</th>\n",
       "      <th>capital gain</th>\n",
       "      <th>capital loss</th>\n",
       "      <th>hours per week</th>\n",
       "      <th>native-country</th>\n",
       "      <th>income</th>\n",
       "    </tr>\n",
       "  </thead>\n",
       "  <tbody>\n",
       "    <tr>\n",
       "      <th>0</th>\n",
       "      <td>44</td>\n",
       "      <td>Local-gov</td>\n",
       "      <td>100479</td>\n",
       "      <td>Assoc-acdm</td>\n",
       "      <td>12</td>\n",
       "      <td>Married-civ-spouse</td>\n",
       "      <td>Prof-specialty</td>\n",
       "      <td>Husband</td>\n",
       "      <td>0</td>\n",
       "      <td>0</td>\n",
       "      <td>0</td>\n",
       "      <td>0</td>\n",
       "      <td>48</td>\n",
       "      <td>United-States</td>\n",
       "      <td>0</td>\n",
       "    </tr>\n",
       "    <tr>\n",
       "      <th>1</th>\n",
       "      <td>57</td>\n",
       "      <td>Private</td>\n",
       "      <td>477867</td>\n",
       "      <td>HS-grad</td>\n",
       "      <td>9</td>\n",
       "      <td>Married-civ-spouse</td>\n",
       "      <td>Transport-moving</td>\n",
       "      <td>Husband</td>\n",
       "      <td>0</td>\n",
       "      <td>0</td>\n",
       "      <td>0</td>\n",
       "      <td>0</td>\n",
       "      <td>40</td>\n",
       "      <td>United-States</td>\n",
       "      <td>0</td>\n",
       "    </tr>\n",
       "    <tr>\n",
       "      <th>2</th>\n",
       "      <td>21</td>\n",
       "      <td>Private</td>\n",
       "      <td>410439</td>\n",
       "      <td>Some-college</td>\n",
       "      <td>10</td>\n",
       "      <td>Never-married</td>\n",
       "      <td>Sales</td>\n",
       "      <td>Own-child</td>\n",
       "      <td>0</td>\n",
       "      <td>0</td>\n",
       "      <td>0</td>\n",
       "      <td>0</td>\n",
       "      <td>24</td>\n",
       "      <td>United-States</td>\n",
       "      <td>0</td>\n",
       "    </tr>\n",
       "    <tr>\n",
       "      <th>3</th>\n",
       "      <td>21</td>\n",
       "      <td>Private</td>\n",
       "      <td>195532</td>\n",
       "      <td>HS-grad</td>\n",
       "      <td>9</td>\n",
       "      <td>Never-married</td>\n",
       "      <td>Adm-clerical</td>\n",
       "      <td>Unmarried</td>\n",
       "      <td>0</td>\n",
       "      <td>1</td>\n",
       "      <td>0</td>\n",
       "      <td>0</td>\n",
       "      <td>40</td>\n",
       "      <td>United-States</td>\n",
       "      <td>0</td>\n",
       "    </tr>\n",
       "    <tr>\n",
       "      <th>4</th>\n",
       "      <td>57</td>\n",
       "      <td>Self-emp-inc</td>\n",
       "      <td>125000</td>\n",
       "      <td>Prof-school</td>\n",
       "      <td>15</td>\n",
       "      <td>Married-civ-spouse</td>\n",
       "      <td>Prof-specialty</td>\n",
       "      <td>Husband</td>\n",
       "      <td>0</td>\n",
       "      <td>0</td>\n",
       "      <td>0</td>\n",
       "      <td>0</td>\n",
       "      <td>35</td>\n",
       "      <td>United-States</td>\n",
       "      <td>1</td>\n",
       "    </tr>\n",
       "  </tbody>\n",
       "</table>\n",
       "</div>"
      ],
      "text/plain": [
       "   Age     workclass  fnlwgt     education  education-num      marital-status  \\\n",
       "0   44     Local-gov  100479    Assoc-acdm             12  Married-civ-spouse   \n",
       "1   57       Private  477867       HS-grad              9  Married-civ-spouse   \n",
       "2   21       Private  410439  Some-college             10       Never-married   \n",
       "3   21       Private  195532       HS-grad              9       Never-married   \n",
       "4   57  Self-emp-inc  125000   Prof-school             15  Married-civ-spouse   \n",
       "\n",
       "         occupation relationship  race  gender  capital gain  capital loss  \\\n",
       "0    Prof-specialty      Husband     0       0             0             0   \n",
       "1  Transport-moving      Husband     0       0             0             0   \n",
       "2             Sales    Own-child     0       0             0             0   \n",
       "3      Adm-clerical    Unmarried     0       1             0             0   \n",
       "4    Prof-specialty      Husband     0       0             0             0   \n",
       "\n",
       "   hours per week native-country  income  \n",
       "0              48  United-States       0  \n",
       "1              40  United-States       0  \n",
       "2              24  United-States       0  \n",
       "3              40  United-States       0  \n",
       "4              35  United-States       1  "
      ]
     },
     "execution_count": 46,
     "metadata": {},
     "output_type": "execute_result"
    }
   ],
   "source": [
    "train_df.head()"
   ]
  },
  {
   "cell_type": "code",
   "execution_count": 47,
   "metadata": {},
   "outputs": [
    {
     "data": {
      "text/html": [
       "<div>\n",
       "<style scoped>\n",
       "    .dataframe tbody tr th:only-of-type {\n",
       "        vertical-align: middle;\n",
       "    }\n",
       "\n",
       "    .dataframe tbody tr th {\n",
       "        vertical-align: top;\n",
       "    }\n",
       "\n",
       "    .dataframe thead th {\n",
       "        text-align: right;\n",
       "    }\n",
       "</style>\n",
       "<table border=\"1\" class=\"dataframe\">\n",
       "  <thead>\n",
       "    <tr style=\"text-align: right;\">\n",
       "      <th></th>\n",
       "      <th>Age</th>\n",
       "      <th>workclass</th>\n",
       "      <th>fnlwgt</th>\n",
       "      <th>education</th>\n",
       "      <th>education-num</th>\n",
       "      <th>marital-status</th>\n",
       "      <th>occupation</th>\n",
       "      <th>relationship</th>\n",
       "      <th>race</th>\n",
       "      <th>gender</th>\n",
       "      <th>capital gain</th>\n",
       "      <th>capital loss</th>\n",
       "      <th>hours per week</th>\n",
       "      <th>native-country</th>\n",
       "    </tr>\n",
       "  </thead>\n",
       "  <tbody>\n",
       "    <tr>\n",
       "      <th>0</th>\n",
       "      <td>56</td>\n",
       "      <td>Local-gov</td>\n",
       "      <td>264436</td>\n",
       "      <td>Some-college</td>\n",
       "      <td>10</td>\n",
       "      <td>Divorced</td>\n",
       "      <td>Exec-managerial</td>\n",
       "      <td>Not-in-family</td>\n",
       "      <td>0</td>\n",
       "      <td>1</td>\n",
       "      <td>0</td>\n",
       "      <td>0</td>\n",
       "      <td>40</td>\n",
       "      <td>United-States</td>\n",
       "    </tr>\n",
       "    <tr>\n",
       "      <th>1</th>\n",
       "      <td>37</td>\n",
       "      <td>Private</td>\n",
       "      <td>184556</td>\n",
       "      <td>Some-college</td>\n",
       "      <td>10</td>\n",
       "      <td>Divorced</td>\n",
       "      <td>Tech-support</td>\n",
       "      <td>Unmarried</td>\n",
       "      <td>0</td>\n",
       "      <td>1</td>\n",
       "      <td>0</td>\n",
       "      <td>0</td>\n",
       "      <td>40</td>\n",
       "      <td>United-States</td>\n",
       "    </tr>\n",
       "    <tr>\n",
       "      <th>2</th>\n",
       "      <td>64</td>\n",
       "      <td>Local-gov</td>\n",
       "      <td>96076</td>\n",
       "      <td>Assoc-voc</td>\n",
       "      <td>11</td>\n",
       "      <td>Married-civ-spouse</td>\n",
       "      <td>Exec-managerial</td>\n",
       "      <td>Husband</td>\n",
       "      <td>0</td>\n",
       "      <td>0</td>\n",
       "      <td>0</td>\n",
       "      <td>0</td>\n",
       "      <td>40</td>\n",
       "      <td>United-States</td>\n",
       "    </tr>\n",
       "    <tr>\n",
       "      <th>3</th>\n",
       "      <td>36</td>\n",
       "      <td>Federal-gov</td>\n",
       "      <td>192150</td>\n",
       "      <td>HS-grad</td>\n",
       "      <td>9</td>\n",
       "      <td>Divorced</td>\n",
       "      <td>Adm-clerical</td>\n",
       "      <td>Unmarried</td>\n",
       "      <td>0</td>\n",
       "      <td>1</td>\n",
       "      <td>0</td>\n",
       "      <td>0</td>\n",
       "      <td>40</td>\n",
       "      <td>United-States</td>\n",
       "    </tr>\n",
       "    <tr>\n",
       "      <th>4</th>\n",
       "      <td>30</td>\n",
       "      <td>?</td>\n",
       "      <td>147215</td>\n",
       "      <td>Some-college</td>\n",
       "      <td>10</td>\n",
       "      <td>Never-married</td>\n",
       "      <td>?</td>\n",
       "      <td>Own-child</td>\n",
       "      <td>0</td>\n",
       "      <td>1</td>\n",
       "      <td>0</td>\n",
       "      <td>0</td>\n",
       "      <td>30</td>\n",
       "      <td>United-States</td>\n",
       "    </tr>\n",
       "  </tbody>\n",
       "</table>\n",
       "</div>"
      ],
      "text/plain": [
       "   Age    workclass  fnlwgt     education  education-num      marital-status  \\\n",
       "0   56    Local-gov  264436  Some-college             10            Divorced   \n",
       "1   37      Private  184556  Some-college             10            Divorced   \n",
       "2   64    Local-gov   96076     Assoc-voc             11  Married-civ-spouse   \n",
       "3   36  Federal-gov  192150       HS-grad              9            Divorced   \n",
       "4   30            ?  147215  Some-college             10       Never-married   \n",
       "\n",
       "        occupation   relationship  race  gender  capital gain  capital loss  \\\n",
       "0  Exec-managerial  Not-in-family     0       1             0             0   \n",
       "1     Tech-support      Unmarried     0       1             0             0   \n",
       "2  Exec-managerial        Husband     0       0             0             0   \n",
       "3     Adm-clerical      Unmarried     0       1             0             0   \n",
       "4                ?      Own-child     0       1             0             0   \n",
       "\n",
       "   hours per week native-country  \n",
       "0              40  United-States  \n",
       "1              40  United-States  \n",
       "2              40  United-States  \n",
       "3              40  United-States  \n",
       "4              30  United-States  "
      ]
     },
     "execution_count": 47,
     "metadata": {},
     "output_type": "execute_result"
    }
   ],
   "source": [
    "test_df.head()"
   ]
  },
  {
   "cell_type": "code",
   "execution_count": 48,
   "metadata": {},
   "outputs": [
    {
     "data": {
      "text/plain": [
       "array(['Local-gov', 'Private', 'Federal-gov', '?', 'Self-emp-not-inc',\n",
       "       'Self-emp-inc', 'State-gov', 'Never-worked', 'Without-pay'],\n",
       "      dtype=object)"
      ]
     },
     "execution_count": 48,
     "metadata": {},
     "output_type": "execute_result"
    }
   ],
   "source": [
    "test_df['workclass'].unique()"
   ]
  },
  {
   "cell_type": "code",
   "execution_count": 49,
   "metadata": {},
   "outputs": [],
   "source": [
    "train_df = pd.get_dummies(train_df)\n",
    "test_df = pd.get_dummies(test_df)"
   ]
  },
  {
   "cell_type": "code",
   "execution_count": 51,
   "metadata": {
    "scrolled": true
   },
   "outputs": [
    {
     "data": {
      "text/plain": [
       "Index(['Age', 'fnlwgt', 'education-num', 'race', 'gender', 'capital gain',\n",
       "       'capital loss', 'hours per week', 'workclass_?',\n",
       "       'workclass_Federal-gov', 'workclass_Local-gov',\n",
       "       'workclass_Never-worked', 'workclass_Private', 'workclass_Self-emp-inc',\n",
       "       'workclass_Self-emp-not-inc', 'workclass_State-gov',\n",
       "       'workclass_Without-pay', 'education_10th', 'education_11th',\n",
       "       'education_12th', 'education_1st-4th', 'education_5th-6th',\n",
       "       'education_7th-8th', 'education_9th', 'education_Assoc-acdm',\n",
       "       'education_Assoc-voc', 'education_Bachelors', 'education_Doctorate',\n",
       "       'education_HS-grad', 'education_Masters', 'education_Preschool',\n",
       "       'education_Prof-school', 'education_Some-college',\n",
       "       'marital-status_Divorced', 'marital-status_Married-AF-spouse',\n",
       "       'marital-status_Married-civ-spouse',\n",
       "       'marital-status_Married-spouse-absent', 'marital-status_Never-married',\n",
       "       'marital-status_Separated', 'marital-status_Widowed', 'occupation_?',\n",
       "       'occupation_Adm-clerical', 'occupation_Armed-Forces',\n",
       "       'occupation_Craft-repair', 'occupation_Exec-managerial',\n",
       "       'occupation_Farming-fishing', 'occupation_Handlers-cleaners',\n",
       "       'occupation_Machine-op-inspct', 'occupation_Other-service',\n",
       "       'occupation_Priv-house-serv', 'occupation_Prof-specialty',\n",
       "       'occupation_Protective-serv', 'occupation_Sales',\n",
       "       'occupation_Tech-support', 'occupation_Transport-moving',\n",
       "       'relationship_Husband', 'relationship_Not-in-family',\n",
       "       'relationship_Other-relative', 'relationship_Own-child',\n",
       "       'relationship_Unmarried', 'relationship_Wife', 'native-country_?',\n",
       "       'native-country_Cambodia', 'native-country_Canada',\n",
       "       'native-country_China', 'native-country_Columbia',\n",
       "       'native-country_Cuba', 'native-country_Dominican-Republic',\n",
       "       'native-country_Ecuador', 'native-country_El-Salvador',\n",
       "       'native-country_England', 'native-country_France',\n",
       "       'native-country_Germany', 'native-country_Greece',\n",
       "       'native-country_Guatemala', 'native-country_Haiti',\n",
       "       'native-country_Honduras', 'native-country_Hungary',\n",
       "       'native-country_India', 'native-country_Iran', 'native-country_Ireland',\n",
       "       'native-country_Italy', 'native-country_Jamaica',\n",
       "       'native-country_Japan', 'native-country_Mexico',\n",
       "       'native-country_Nicaragua', 'native-country_Outlying-US(Guam-USVI-etc)',\n",
       "       'native-country_Peru', 'native-country_Philippines',\n",
       "       'native-country_Poland', 'native-country_Portugal',\n",
       "       'native-country_Puerto-Rico', 'native-country_Scotland',\n",
       "       'native-country_Taiwan', 'native-country_Thailand',\n",
       "       'native-country_Trinadad&Tobago', 'native-country_United-States',\n",
       "       'native-country_Yugoslavia'],\n",
       "      dtype='object')"
      ]
     },
     "execution_count": 51,
     "metadata": {},
     "output_type": "execute_result"
    }
   ],
   "source": [
    "test_df.columns"
   ]
  },
  {
   "cell_type": "code",
   "execution_count": 52,
   "metadata": {},
   "outputs": [
    {
     "name": "stdout",
     "output_type": "stream",
     "text": [
      "native-country_Hong\n",
      "native-country_South\n",
      "native-country_Vietnam\n",
      "income\n",
      "native-country_Holand-Netherlands\n"
     ]
    }
   ],
   "source": [
    "missing_cols = set(train_df.columns) - set(test_df.columns)\n",
    "\n",
    "for c in missing_cols:\n",
    "    if c != 'income':\n",
    "        test_df[c] = 0\n",
    "    \n",
    "# Ensure Ordering matches\n",
    "test_df = test_df[train_df.columns]"
   ]
  },
  {
   "cell_type": "code",
   "execution_count": 11,
   "metadata": {},
   "outputs": [
    {
     "data": {
      "text/plain": [
       "array([ True,  True,  True,  True,  True,  True,  True,  True,  True,\n",
       "        True,  True,  True,  True,  True,  True,  True,  True,  True,\n",
       "        True,  True,  True,  True,  True,  True,  True,  True,  True,\n",
       "        True,  True,  True,  True,  True,  True,  True,  True,  True,\n",
       "        True,  True,  True,  True,  True,  True,  True,  True,  True,\n",
       "        True,  True,  True,  True,  True,  True,  True,  True,  True,\n",
       "        True,  True,  True,  True,  True,  True,  True,  True,  True,\n",
       "        True,  True,  True,  True,  True,  True,  True,  True,  True,\n",
       "        True,  True,  True,  True,  True,  True,  True,  True,  True,\n",
       "        True,  True,  True,  True,  True,  True,  True,  True,  True,\n",
       "        True,  True,  True,  True,  True,  True,  True,  True,  True,\n",
       "        True,  True,  True,  True])"
      ]
     },
     "execution_count": 11,
     "metadata": {},
     "output_type": "execute_result"
    }
   ],
   "source": [
    "train_df.columns == test_df.columns"
   ]
  },
  {
   "cell_type": "code",
   "execution_count": 12,
   "metadata": {},
   "outputs": [],
   "source": [
    "X_train, y_train = train_df.drop('income', axis=1), train_df['income']\n",
    "X_test = test_df"
   ]
  },
  {
   "cell_type": "code",
   "execution_count": 13,
   "metadata": {},
   "outputs": [
    {
     "name": "stderr",
     "output_type": "stream",
     "text": [
      "[Parallel(n_jobs=1)]: Using backend SequentialBackend with 1 concurrent workers.\n",
      "[Parallel(n_jobs=1)]: Done 1000 out of 1000 | elapsed:  1.8min finished\n"
     ]
    },
    {
     "data": {
      "text/plain": [
       "RandomForestClassifier(bootstrap=True, class_weight=None, criterion='gini',\n",
       "            max_depth=None, max_features='auto', max_leaf_nodes=None,\n",
       "            min_impurity_decrease=0.0, min_impurity_split=None,\n",
       "            min_samples_leaf=1, min_samples_split=2,\n",
       "            min_weight_fraction_leaf=0.0, n_estimators=1000, n_jobs=None,\n",
       "            oob_score=False, random_state=42, verbose=1, warm_start=False)"
      ]
     },
     "execution_count": 13,
     "metadata": {},
     "output_type": "execute_result"
    }
   ],
   "source": [
    "from sklearn.ensemble import RandomForestClassifier\n",
    "\n",
    "# Training\n",
    "rf = RandomForestClassifier(n_estimators=1000, random_state=42, verbose=1)\n",
    "rf.fit(X_train, y_train)"
   ]
  },
  {
   "cell_type": "code",
   "execution_count": 14,
   "metadata": {},
   "outputs": [
    {
     "name": "stderr",
     "output_type": "stream",
     "text": [
      "[Parallel(n_jobs=1)]: Using backend SequentialBackend with 1 concurrent workers.\n",
      "[Parallel(n_jobs=1)]: Done 1000 out of 1000 | elapsed:    5.3s finished\n"
     ]
    }
   ],
   "source": [
    "# Make Predictions\n",
    "predictions = rf.predict(X_test)"
   ]
  },
  {
   "cell_type": "code",
   "execution_count": 15,
   "metadata": {},
   "outputs": [
    {
     "name": "stdout",
     "output_type": "stream",
     "text": [
      "Accuracy:  73.55 %.\n"
     ]
    }
   ],
   "source": [
    "# Determine absolute error\n",
    "errors = abs(predictions - y_test)\n",
    "\n",
    "# Determine number of errors\n",
    "num_correct = errors.value_counts()[0]\n",
    "num_incorrect = errors.value_counts()[1]\n",
    "\n",
    "\n",
    "# Determine accuracy\n",
    "accuracy = (1 - (num_incorrect / num_correct)) * 100\n",
    "\n",
    "print('Accuracy: ', round(accuracy, 2), '%.')"
   ]
  },
  {
   "cell_type": "code",
   "execution_count": 17,
   "metadata": {},
   "outputs": [],
   "source": [
    "# Determine Bias\n",
    "Th = 0.1\n",
    "# DDP = np.abs()"
   ]
  },
  {
   "cell_type": "code",
   "execution_count": 34,
   "metadata": {},
   "outputs": [
    {
     "data": {
      "text/plain": [
       "array([0], dtype=int64)"
      ]
     },
     "execution_count": 34,
     "metadata": {},
     "output_type": "execute_result"
    }
   ],
   "source": [
    "A0_indices = X_test.loc[X_test['gender'] == 0].index.values\n",
    "A1_indices = X_test.loc[X_test['gender'] == 1].index.values\n",
    "\n",
    "total_num_A0 = len(A0_indices)\n",
    "total_num_A1 = len(A1_indices)\n",
    "\n",
    "N1A0 = y_test.iloc[A0_indices]\n",
    "N1A0.unique()"
   ]
  },
  {
   "cell_type": "code",
   "execution_count": 29,
   "metadata": {
    "scrolled": true
   },
   "outputs": [
    {
     "name": "stdout",
     "output_type": "stream",
     "text": [
      "Variable: fnlwgt               Importance: 0.17186\n",
      "Variable: Age                  Importance: 0.15397\n",
      "Variable: capital gain         Importance: 0.09766\n",
      "Variable: hours per week       Importance: 0.08556\n",
      "Variable: marital-status_Married-civ-spouse Importance: 0.06519\n",
      "Variable: education-num        Importance: 0.06243\n",
      "Variable: relationship_Husband Importance: 0.04555\n",
      "Variable: capital loss         Importance: 0.03049\n",
      "Variable: marital-status_Never-married Importance: 0.02375\n",
      "Variable: occupation_Exec-managerial Importance: 0.01841\n",
      "Variable: occupation_Prof-specialty Importance: 0.01528\n",
      "Variable: education_Bachelors  Importance: 0.01239\n",
      "Variable: gender               Importance: 0.01226\n",
      "Variable: relationship_Not-in-family Importance: 0.01073\n",
      "Variable: workclass_Private    Importance: 0.00969\n",
      "Variable: relationship_Wife    Importance: 0.0095\n",
      "Variable: relationship_Own-child Importance: 0.00855\n",
      "Variable: workclass_Self-emp-not-inc Importance: 0.00827\n",
      "Variable: education_Masters    Importance: 0.00801\n",
      "Variable: race                 Importance: 0.008\n",
      "Variable: education_HS-grad    Importance: 0.00729\n",
      "Variable: occupation_Other-service Importance: 0.00695\n",
      "Variable: occupation_Sales     Importance: 0.00645\n",
      "Variable: marital-status_Divorced Importance: 0.00632\n",
      "Variable: occupation_Craft-repair Importance: 0.00632\n",
      "Variable: workclass_Self-emp-inc Importance: 0.00593\n",
      "Variable: workclass_Local-gov  Importance: 0.00553\n",
      "Variable: relationship_Unmarried Importance: 0.00543\n",
      "Variable: native-country_United-States Importance: 0.00541\n",
      "Variable: occupation_Adm-clerical Importance: 0.00521\n",
      "Variable: education_Some-college Importance: 0.0051\n",
      "Variable: education_Prof-school Importance: 0.00474\n",
      "Variable: workclass_Federal-gov Importance: 0.00473\n",
      "Variable: occupation_Farming-fishing Importance: 0.0044\n",
      "Variable: occupation_Transport-moving Importance: 0.00434\n",
      "Variable: workclass_State-gov  Importance: 0.00423\n",
      "Variable: occupation_Tech-support Importance: 0.00419\n",
      "Variable: occupation_Machine-op-inspct Importance: 0.00375\n",
      "Variable: occupation_Handlers-cleaners Importance: 0.00329\n",
      "Variable: education_Doctorate  Importance: 0.00312\n",
      "Variable: occupation_Protective-serv Importance: 0.00276\n",
      "Variable: education_Assoc-voc  Importance: 0.00263\n",
      "Variable: education_Assoc-acdm Importance: 0.00231\n",
      "Variable: native-country_?     Importance: 0.00223\n",
      "Variable: education_7th-8th    Importance: 0.00196\n",
      "Variable: native-country_Mexico Importance: 0.00196\n",
      "Variable: workclass_?          Importance: 0.00187\n",
      "Variable: occupation_?         Importance: 0.00183\n",
      "Variable: education_11th       Importance: 0.0018\n",
      "Variable: marital-status_Separated Importance: 0.00169\n",
      "Variable: marital-status_Widowed Importance: 0.0016\n",
      "Variable: education_10th       Importance: 0.00153\n",
      "Variable: relationship_Other-relative Importance: 0.0013\n",
      "Variable: education_9th        Importance: 0.00111\n",
      "Variable: native-country_Germany Importance: 0.00106\n",
      "Variable: native-country_Canada Importance: 0.00101\n",
      "Variable: marital-status_Married-spouse-absent Importance: 0.00086\n",
      "Variable: native-country_England Importance: 0.00079\n",
      "Variable: native-country_Cuba  Importance: 0.00074\n",
      "Variable: education_5th-6th    Importance: 0.00067\n",
      "Variable: education_12th       Importance: 0.00066\n",
      "Variable: native-country_Italy Importance: 0.00057\n",
      "Variable: native-country_Poland Importance: 0.00056\n",
      "Variable: native-country_Greece Importance: 0.00047\n",
      "Variable: native-country_Puerto-Rico Importance: 0.00046\n",
      "Variable: native-country_Portugal Importance: 0.00043\n",
      "Variable: native-country_Jamaica Importance: 0.00041\n",
      "Variable: native-country_Ireland Importance: 0.00039\n",
      "Variable: native-country_France Importance: 0.00035\n",
      "Variable: native-country_Iran  Importance: 0.00032\n",
      "Variable: native-country_Yugoslavia Importance: 0.00031\n",
      "Variable: marital-status_Married-AF-spouse Importance: 0.00025\n",
      "Variable: education_1st-4th    Importance: 0.00024\n",
      "Variable: native-country_Columbia Importance: 0.00024\n",
      "Variable: native-country_El-Salvador Importance: 0.00024\n",
      "Variable: native-country_Haiti Importance: 0.00023\n",
      "Variable: native-country_Hungary Importance: 0.00019\n",
      "Variable: native-country_Peru  Importance: 0.00015\n",
      "Variable: occupation_Priv-house-serv Importance: 0.00014\n",
      "Variable: native-country_Dominican-Republic Importance: 0.00014\n",
      "Variable: native-country_Japan Importance: 0.00014\n",
      "Variable: workclass_Without-pay Importance: 0.00013\n",
      "Variable: native-country_Guatemala Importance: 0.00013\n",
      "Variable: native-country_Nicaragua Importance: 0.00013\n",
      "Variable: native-country_Philippines Importance: 0.00012\n",
      "Variable: native-country_Trinadad&Tobago Importance: 0.00012\n",
      "Variable: native-country_Ecuador Importance: 0.00011\n",
      "Variable: native-country_Scotland Importance: 0.00011\n",
      "Variable: native-country_India Importance: 0.0001\n",
      "Variable: education_Preschool  Importance: 5e-05\n",
      "Variable: occupation_Armed-Forces Importance: 5e-05\n",
      "Variable: native-country_Taiwan Importance: 3e-05\n",
      "Variable: native-country_Outlying-US(Guam-USVI-etc) Importance: 2e-05\n",
      "Variable: native-country_China Importance: 1e-05\n",
      "Variable: native-country_Honduras Importance: 1e-05\n",
      "Variable: workclass_Never-worked Importance: 0.0\n",
      "Variable: native-country_Cambodia Importance: 0.0\n",
      "Variable: native-country_Holand-Netherlands Importance: 0.0\n",
      "Variable: native-country_Hong  Importance: 0.0\n",
      "Variable: native-country_South Importance: 0.0\n",
      "Variable: native-country_Thailand Importance: 0.0\n",
      "Variable: native-country_Vietnam Importance: 0.0\n"
     ]
    }
   ],
   "source": [
    "# Evaluate\n",
    "\n",
    "importances = list(rf.feature_importances_)\n",
    "feature_importances = [(feature, round(importance, 5)) for feature, importance in zip(X_train.columns, importances)]\n",
    "feature_importances = sorted(feature_importances, key = lambda x: x[1], reverse=True)\n",
    "list_of_importances = [print('Variable: {:20} Importance: {}'.format(*pair)) for pair in feature_importances]"
   ]
  },
  {
   "cell_type": "code",
   "execution_count": 32,
   "metadata": {},
   "outputs": [
    {
     "data": {
      "text/plain": [
       "'../output/test_sample_2019-04-09224929.697337.csv'"
      ]
     },
     "execution_count": 32,
     "metadata": {},
     "output_type": "execute_result"
    }
   ],
   "source": [
    "import datetime\n",
    "\n",
    "file_name = '../output/test_sample_' + str(datetime.datetime.now()).replace(' ', '').replace(':','') + '.csv'\n",
    "file_name"
   ]
  },
  {
   "cell_type": "code",
   "execution_count": 39,
   "metadata": {
    "scrolled": true
   },
   "outputs": [
    {
     "data": {
      "text/plain": [
       "0       0\n",
       "1       0\n",
       "2       0\n",
       "3       0\n",
       "4       0\n",
       "5       0\n",
       "6       0\n",
       "7       0\n",
       "8       0\n",
       "9       0\n",
       "10      0\n",
       "11      0\n",
       "12      0\n",
       "13      0\n",
       "14      0\n",
       "15      0\n",
       "16      0\n",
       "17      1\n",
       "18      0\n",
       "19      0\n",
       "20      0\n",
       "21      1\n",
       "22      0\n",
       "23      1\n",
       "24      0\n",
       "25      1\n",
       "26      0\n",
       "27      0\n",
       "28      0\n",
       "29      1\n",
       "       ..\n",
       "8967    1\n",
       "8968    0\n",
       "8969    0\n",
       "8970    0\n",
       "8971    1\n",
       "8972    0\n",
       "8973    0\n",
       "8974    0\n",
       "8975    0\n",
       "8976    0\n",
       "8977    0\n",
       "8978    1\n",
       "8979    1\n",
       "8980    1\n",
       "8981    0\n",
       "8982    0\n",
       "8983    0\n",
       "8984    0\n",
       "8985    1\n",
       "8986    1\n",
       "8987    0\n",
       "8988    0\n",
       "8989    1\n",
       "8990    0\n",
       "8991    1\n",
       "8992    0\n",
       "8993    0\n",
       "8994    0\n",
       "8995    0\n",
       "8996    0\n",
       "Length: 8997, dtype: int64"
      ]
     },
     "execution_count": 39,
     "metadata": {},
     "output_type": "execute_result"
    }
   ],
   "source": [
    "submission = pd.Series(predictions)\n",
    "submission"
   ]
  },
  {
   "cell_type": "code",
   "execution_count": 45,
   "metadata": {},
   "outputs": [],
   "source": [
    "submission.to_csv(file_name, index_label='Id', header=['income'], index=True)"
   ]
  },
  {
   "cell_type": "code",
   "execution_count": null,
   "metadata": {},
   "outputs": [],
   "source": []
  }
 ],
 "metadata": {
  "kernelspec": {
   "display_name": "Python 3",
   "language": "python",
   "name": "python3"
  },
  "language_info": {
   "codemirror_mode": {
    "name": "ipython",
    "version": 3
   },
   "file_extension": ".py",
   "mimetype": "text/x-python",
   "name": "python",
   "nbconvert_exporter": "python",
   "pygments_lexer": "ipython3",
   "version": "3.6.7"
  }
 },
 "nbformat": 4,
 "nbformat_minor": 1
}
